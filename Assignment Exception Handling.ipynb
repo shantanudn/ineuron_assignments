{
 "cells": [
  {
   "cell_type": "markdown",
   "metadata": {},
   "source": [
    "1. Write a function to compute 5/0 and use try/except to catch the exceptions."
   ]
  },
  {
   "cell_type": "code",
   "execution_count": 1,
   "metadata": {},
   "outputs": [],
   "source": [
    "#Solution\n",
    "\n",
    "def compute(x,y):\n",
    "    '''This function is used to divide to integers and also handle an exception when the denominator is zero'''\n",
    "    try:\n",
    "        z=x/y\n",
    "        print(z)\n",
    "    except:\n",
    "        print('The number cannot be divided by zero')"
   ]
  },
  {
   "cell_type": "code",
   "execution_count": 2,
   "metadata": {},
   "outputs": [
    {
     "name": "stdout",
     "output_type": "stream",
     "text": [
      "The number cannot be divided by zero\n"
     ]
    }
   ],
   "source": [
    "#Testing the function by passing deominator as zero\n",
    "compute(5,0)"
   ]
  },
  {
   "cell_type": "code",
   "execution_count": 3,
   "metadata": {},
   "outputs": [
    {
     "name": "stdout",
     "output_type": "stream",
     "text": [
      "5.0\n"
     ]
    }
   ],
   "source": [
    "#Testing the fuction when two integers are passed\n",
    "compute(5,1)"
   ]
  },
  {
   "cell_type": "markdown",
   "metadata": {},
   "source": [
    "Implement a Python program to generate all sentences where subject is in [\"Americans\", \"Indians\"] and verb is in [\"Play\", \"watch\"] and the object is in [\"Baseball\",\"cricket\"].\n",
    "\n",
    "<b>Hint:</b> Subject,Verb and Object should be declared in the program as shown below.\n",
    "\n",
    "* subjects=[\"Americans \",\"Indians\"]\n",
    "* verbs=[\"play\",\"watch\"]\n",
    "* objects=[\"Baseball\",\"Cricket\"]\n",
    "\n",
    "## Output should come as below:\n",
    "* Americans play Baseball.\n",
    "* Americans play Cricket.\n",
    "* Americans watch Baseball.\n",
    "* Americans watch Cricket.\n",
    "* Indians play Baseball.\n",
    "* Indians play Cricket.\n",
    "* Indians watch Baseball.\n",
    "* Indians watch Cricket."
   ]
  },
  {
   "cell_type": "code",
   "execution_count": 4,
   "metadata": {},
   "outputs": [],
   "source": [
    "#Solution\n",
    "#Declaring variables as per the problem statement\n",
    "subjects = [\"Americans\",\"Indians\"]\n",
    "verbs = [\"play\",\"watch\"]\n",
    "objects = [\"Baseball\",\"Cricket\"]"
   ]
  },
  {
   "cell_type": "code",
   "execution_count": 5,
   "metadata": {},
   "outputs": [
    {
     "name": "stdout",
     "output_type": "stream",
     "text": [
      "Output:\n",
      "Americans play Baseball\n",
      "Americans play Cricket\n",
      "Americans watch Baseball\n",
      "Americans watch Cricket\n",
      "Indians play Baseball\n",
      "Indians play Cricket\n",
      "Indians watch Baseball\n",
      "Indians watch Cricket\n"
     ]
    }
   ],
   "source": [
    "#Creating a list comprehension \n",
    "sentence_list = [(sub+\" \"+ver+\" \"+obj) for sub in subjects for ver in verbs for obj in objects]\n",
    "\n",
    "#Output of the list of sentences\n",
    "print(\"Output:\")\n",
    "\n",
    "for sentence in sentence_list:\n",
    "    print(sentence)"
   ]
  }
 ],
 "metadata": {
  "kernelspec": {
   "display_name": "Python 3",
   "language": "python",
   "name": "python3"
  },
  "language_info": {
   "codemirror_mode": {
    "name": "ipython",
    "version": 3
   },
   "file_extension": ".py",
   "mimetype": "text/x-python",
   "name": "python",
   "nbconvert_exporter": "python",
   "pygments_lexer": "ipython3",
   "version": "3.7.1"
  }
 },
 "nbformat": 4,
 "nbformat_minor": 2
}
